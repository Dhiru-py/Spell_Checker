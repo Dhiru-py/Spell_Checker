{
  "nbformat": 4,
  "nbformat_minor": 0,
  "metadata": {
    "colab": {
      "name": "Maximum Characters based Spell_Checker .ipynb",
      "provenance": [],
      "collapsed_sections": [],
      "authorship_tag": "ABX9TyPWyfyT7ia0Vi/Gd72AdOrb",
      "include_colab_link": true
    },
    "kernelspec": {
      "name": "python3",
      "display_name": "Python 3"
    },
    "language_info": {
      "name": "python"
    }
  },
  "cells": [
    {
      "cell_type": "markdown",
      "metadata": {
        "id": "view-in-github",
        "colab_type": "text"
      },
      "source": [
        "<a href=\"https://colab.research.google.com/github/Dhiru-py/Spell_Checker/blob/main/Maximum_Characters_based_Spell_Checker_.ipynb\" target=\"_parent\"><img src=\"https://colab.research.google.com/assets/colab-badge.svg\" alt=\"Open In Colab\"/></a>"
      ]
    },
    {
      "cell_type": "code",
      "metadata": {
        "id": "8DCBoNiF-qbb"
      },
      "source": [
        "#========================================= Maximum Character Similarity-based Spell Checker========================== #\n",
        "# Importing required libraries.....\n",
        "import pandas as pd"
      ],
      "execution_count": 9,
      "outputs": []
    },
    {
      "cell_type": "code",
      "metadata": {
        "id": "tArj_8ffSnkD",
        "colab": {
          "base_uri": "https://localhost:8080/",
          "height": 98
        },
        "outputId": "6ab26a82-f6d2-4803-f0d5-b94e7cf4a972"
      },
      "source": [
        "# Method_1\n",
        "\n",
        "word_list = [ \"apps\", \"application\", \"apple\", \"orange\", \"banana\", \"mango\", \"oracle\"] # very small dataset used for demo purpose, you can enrich dataset as per your requirements.\n",
        "input_word = str(input(\"enter word: \"))\n",
        "\n",
        "mapped_char = []\n",
        "\n",
        "for word in word_list:\n",
        "  n = \"\"\n",
        "  if word.startswith(input_word[0]):\n",
        "    for char in input_word:\n",
        "      if char in word:\n",
        "        n = n + char\n",
        "  mapped_char.append(len(n))\n",
        "\n",
        "# creating dataframe...\n",
        "words = pd.DataFrame(word_list, columns= [\"Words\"])\n",
        "map_char = pd.DataFrame(mapped_char, columns= [\"mapped_char\"])\n",
        "\n",
        "dataframe = pd.concat([words, map_char], axis= 1, ignore_index= False)\n",
        "dataframe\n",
        "\n",
        "result = dataframe[dataframe.mapped_char == dataframe.mapped_char.max()]\n",
        "result\n"
      ],
      "execution_count": 10,
      "outputs": [
        {
          "output_type": "stream",
          "text": [
            "enter word: aple\n"
          ],
          "name": "stdout"
        },
        {
          "output_type": "execute_result",
          "data": {
            "text/html": [
              "<div>\n",
              "<style scoped>\n",
              "    .dataframe tbody tr th:only-of-type {\n",
              "        vertical-align: middle;\n",
              "    }\n",
              "\n",
              "    .dataframe tbody tr th {\n",
              "        vertical-align: top;\n",
              "    }\n",
              "\n",
              "    .dataframe thead th {\n",
              "        text-align: right;\n",
              "    }\n",
              "</style>\n",
              "<table border=\"1\" class=\"dataframe\">\n",
              "  <thead>\n",
              "    <tr style=\"text-align: right;\">\n",
              "      <th></th>\n",
              "      <th>Words</th>\n",
              "      <th>mapped_char</th>\n",
              "    </tr>\n",
              "  </thead>\n",
              "  <tbody>\n",
              "    <tr>\n",
              "      <th>2</th>\n",
              "      <td>apple</td>\n",
              "      <td>4</td>\n",
              "    </tr>\n",
              "  </tbody>\n",
              "</table>\n",
              "</div>"
            ],
            "text/plain": [
              "   Words  mapped_char\n",
              "2  apple            4"
            ]
          },
          "metadata": {
            "tags": []
          },
          "execution_count": 10
        }
      ]
    },
    {
      "cell_type": "code",
      "metadata": {
        "id": "tK9HkNNxxnKI"
      },
      "source": [
        "#Method_2"
      ],
      "execution_count": 11,
      "outputs": []
    },
    {
      "cell_type": "code",
      "metadata": {
        "colab": {
          "base_uri": "https://localhost:8080/",
          "height": 98
        },
        "id": "03ncQ1JNOkXq",
        "outputId": "2d642fa7-3e2d-4867-ce88-34db543f3d07"
      },
      "source": [
        "def chracter_similarity(string_):\n",
        "  mapped_char = []  \n",
        "  \n",
        "  for word in word_list:\n",
        "    n = \"\"\n",
        "    word_int = dict ((j,i) for i,j in enumerate(word))\n",
        "    for char in string_:\n",
        "      if char in word_int:\n",
        "        n = n + char\n",
        "    mapped_char.append(len(n))\n",
        "\n",
        "  df = pd.DataFrame()\n",
        "\n",
        "  df[\"Predicted_words\"] = word_list\n",
        "  df[\"Maximum_matched_chars\"] = mapped_char\n",
        "  return (((df[df.Maximum_matched_chars == df.Maximum_matched_chars.max()])))\n",
        "\n",
        "input_word = input(str(\" Enter your word: \")) # the word \"app\" is given as input for testing the model.\n",
        "character_similarity_result = chracter_similarity(input_word)\n",
        "character_similarity_result\n"
      ],
      "execution_count": 12,
      "outputs": [
        {
          "output_type": "stream",
          "text": [
            " Enter your word: aple\n"
          ],
          "name": "stdout"
        },
        {
          "output_type": "execute_result",
          "data": {
            "text/html": [
              "<div>\n",
              "<style scoped>\n",
              "    .dataframe tbody tr th:only-of-type {\n",
              "        vertical-align: middle;\n",
              "    }\n",
              "\n",
              "    .dataframe tbody tr th {\n",
              "        vertical-align: top;\n",
              "    }\n",
              "\n",
              "    .dataframe thead th {\n",
              "        text-align: right;\n",
              "    }\n",
              "</style>\n",
              "<table border=\"1\" class=\"dataframe\">\n",
              "  <thead>\n",
              "    <tr style=\"text-align: right;\">\n",
              "      <th></th>\n",
              "      <th>Predicted_words</th>\n",
              "      <th>Maximum_matched_chars</th>\n",
              "    </tr>\n",
              "  </thead>\n",
              "  <tbody>\n",
              "    <tr>\n",
              "      <th>2</th>\n",
              "      <td>apple</td>\n",
              "      <td>4</td>\n",
              "    </tr>\n",
              "  </tbody>\n",
              "</table>\n",
              "</div>"
            ],
            "text/plain": [
              "  Predicted_words  Maximum_matched_chars\n",
              "2           apple                      4"
            ]
          },
          "metadata": {
            "tags": []
          },
          "execution_count": 12
        }
      ]
    },
    {
      "cell_type": "code",
      "metadata": {
        "id": "uefJmrKCjBO6"
      },
      "source": [
        ""
      ],
      "execution_count": 12,
      "outputs": []
    }
  ]
}