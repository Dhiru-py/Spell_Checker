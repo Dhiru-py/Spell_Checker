{
  "nbformat": 4,
  "nbformat_minor": 0,
  "metadata": {
    "colab": {
      "name": "Spell_Checker_with_Minimum edit distance algorithm",
      "provenance": [],
      "collapsed_sections": [],
      "authorship_tag": "ABX9TyPs7SXV7kZ653N2V01OjjQ+",
      "include_colab_link": true
    },
    "kernelspec": {
      "name": "python3",
      "display_name": "Python 3"
    },
    "language_info": {
      "name": "python"
    }
  },
  "cells": [
    {
      "cell_type": "markdown",
      "metadata": {
        "id": "view-in-github",
        "colab_type": "text"
      },
      "source": [
        "<a href=\"https://colab.research.google.com/github/Dhiru-py/Spell_Checker/blob/main/Spell_Checker_with_Minimum_edit_distance_algorithm.ipynb\" target=\"_parent\"><img src=\"https://colab.research.google.com/assets/colab-badge.svg\" alt=\"Open In Colab\"/></a>"
      ]
    },
    {
      "cell_type": "code",
      "metadata": {
        "id": "MR7kMFecDptF"
      },
      "source": [
        "# Import required libraries..\n",
        "import re\n",
        "from collections import Counter"
      ],
      "execution_count": 1,
      "outputs": []
    },
    {
      "cell_type": "code",
      "metadata": {
        "id": "5QrmOjX9QCBH"
      },
      "source": [
        "data = '''Spell checker is one of the most important and key problems of Natural Language Processing. \n",
        "Just think about the many spelling mistakes that would be in a dataset about posts and comments from Reddit. \n",
        "For this reason, I thought a very worthwhile project would be to make a spell checker, which would help alleviate some of these problems. \n",
        "This project is about those who are trying to understand Natural Language Processing from the very basics. \n",
        "It is a fully python based project. No shortcut, no libraries, no hi-fi terms, I just used python to develop this.  \n",
        "It is very easy, simple, and effective. Sachin Tendular is a very good batsman. Apple. Mapple.\n",
        "'''\n"
      ],
      "execution_count": 21,
      "outputs": []
    },
    {
      "cell_type": "code",
      "metadata": {
        "colab": {
          "base_uri": "https://localhost:8080/",
          "height": 87
        },
        "id": "Krxc2cgR1cXU",
        "outputId": "17d838db-dbe2-4101-8406-d869a9abd3fa"
      },
      "source": [
        "data"
      ],
      "execution_count": 22,
      "outputs": [
        {
          "output_type": "execute_result",
          "data": {
            "application/vnd.google.colaboratory.intrinsic+json": {
              "type": "string"
            },
            "text/plain": [
              "'Spell checker is one of the most important and key problems of Natural Language Processing. \\nJust think about the many spelling mistakes that would be in a dataset about posts and comments from Reddit. \\nFor this reason, I thought a very worthwhile project would be to make a spell checker, which would help alleviate some of these problems. \\nThis project is about those who are trying to understand Natural Language Processing from the very basics. \\nIt is a fully python based project. No shortcut, no libraries, no hi-fi terms, I just used python to develop this.  \\nIt is very easy, simple, and effective. Sachin Tendular is a very good batsman. Apple. Mapple.\\n'"
            ]
          },
          "metadata": {
            "tags": []
          },
          "execution_count": 22
        }
      ]
    },
    {
      "cell_type": "code",
      "metadata": {
        "id": "7ML7AmNbDVv2"
      },
      "source": [
        "def word_list(text):                        #creating wordlist\n",
        "  return re.findall(r'\\w+', text.lower())\n",
        "#word_list(data)"
      ],
      "execution_count": 23,
      "outputs": []
    },
    {
      "cell_type": "code",
      "metadata": {
        "id": "iKebegKGD85R"
      },
      "source": [
        "word_index = Counter(word_list(data))       # creating word_index\n",
        "#word_index"
      ],
      "execution_count": 24,
      "outputs": []
    },
    {
      "cell_type": "code",
      "metadata": {
        "id": "8qhbDBLU1VMN"
      },
      "source": [
        "def edit_1(word):                           # The function edit_1 returns a set of all the edited strings (whether words or not) that can be made with one simple edit:\n",
        "  letters    = 'abcdefghijklmnopqrstuvwxyz'\n",
        "  word_split = []                           # Spliting word\n",
        "  for i in range(len(word) +1):\n",
        "    x_split = word[:i], word[i:]\n",
        "    word_split.append(x_split)\n",
        "  \n",
        "  delet_letter = []                         # Removing one character from the given word \n",
        "  for L,R in word_split:\n",
        "    if R:\n",
        "      delet_letter.append(L + R[1:])\n",
        "    \n",
        "  swap_letter = []                          # Swaping two adjacent characters\n",
        "  for L, R in word_split:\n",
        "    if len(R) > 1:\n",
        "      swap_letter.append (L + R[1] + R[0] + R[2:])\n",
        "  \n",
        "  replace = []                              # Changing one letter to another\n",
        "  for L,R in word_split:\n",
        "    if R:\n",
        "      for char in letters:\n",
        "        replace.append(L + char + R[1:])\n",
        "\n",
        "  insert = []                               # Adding a letter between given word  \n",
        "  for L, R in word_split:\n",
        "    for char in letters:\n",
        "      insert.append(L + char + R)\n",
        "\n",
        "  return (set(delet_letter + swap_letter + replace + insert))   # Adding all list_varibales\n"
      ],
      "execution_count": 25,
      "outputs": []
    },
    {
      "cell_type": "code",
      "metadata": {
        "id": "mPi80qDz08os"
      },
      "source": [
        "def candidates(word):\n",
        "  x = edit_1(word)\n",
        "  return (x)\n"
      ],
      "execution_count": 26,
      "outputs": []
    },
    {
      "cell_type": "code",
      "metadata": {
        "id": "JFEijsO8y5Ej"
      },
      "source": [
        "def Probability_of_word(word, N=sum(word_index.values())): # finding the probability of each words\n",
        "  return (word_index[word] / N)\n"
      ],
      "execution_count": 27,
      "outputs": []
    },
    {
      "cell_type": "code",
      "metadata": {
        "colab": {
          "base_uri": "https://localhost:8080/"
        },
        "id": "NvjHZlp8y8TZ",
        "outputId": "5941c343-7bdb-42d1-88e9-e057ddaa4455"
      },
      "source": [
        "# Here, you can get your right word using two different approaches:\n",
        "# Approach_1: Maximum_edit_distance\n",
        "# Approache_2: Maximum_characters_mapped\n",
        "\n",
        "def correction(word): \n",
        "  x = max(candidates(word), key = Probability_of_word)         \n",
        "  word=\"\"\n",
        "  max1 = 0 \n",
        "  if x in word_index:\n",
        "    return (x)\n",
        "  else:\n",
        "    if x not in word_index:               \n",
        "      for w in word_index:\n",
        "        if w.startswith (x[0]):\n",
        "          n = \"\"\n",
        "          for char in x:\n",
        "            if char in w:\n",
        "              n = n + char \n",
        "          if max1 < len(set(n)):\n",
        "            max1 = len(set(n))\n",
        "            word = w\n",
        "  return(word, max1)\n",
        "\n",
        "correction(\"devlope\")"
      ],
      "execution_count": 33,
      "outputs": [
        {
          "output_type": "execute_result",
          "data": {
            "text/plain": [
              "('develop', 5)"
            ]
          },
          "metadata": {
            "tags": []
          },
          "execution_count": 33
        }
      ]
    },
    {
      "cell_type": "code",
      "metadata": {
        "id": "JCxHimtCNIlA"
      },
      "source": [
        "#========================================= Thank you !==========================================#"
      ],
      "execution_count": 34,
      "outputs": []
    },
    {
      "cell_type": "code",
      "metadata": {
        "id": "tj9ZoDpmJYl2"
      },
      "source": [
        ""
      ],
      "execution_count": 9,
      "outputs": []
    },
    {
      "cell_type": "code",
      "metadata": {
        "id": "U02iSmNco8kQ"
      },
      "source": [
        ""
      ],
      "execution_count": 9,
      "outputs": []
    }
  ]
}